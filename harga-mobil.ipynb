{
 "cells": [
  {
   "cell_type": "code",
   "execution_count": 1,
   "id": "72a70ed9",
   "metadata": {
    "_cell_guid": "b1076dfc-b9ad-4769-8c92-a6c4dae69d19",
    "_uuid": "8f2839f25d086af736a60e9eeb907d3b93b6e0e5",
    "execution": {
     "iopub.execute_input": "2022-02-14T11:26:05.673677Z",
     "iopub.status.busy": "2022-02-14T11:26:05.671876Z",
     "iopub.status.idle": "2022-02-14T11:26:05.694456Z",
     "shell.execute_reply": "2022-02-14T11:26:05.693695Z",
     "shell.execute_reply.started": "2022-02-14T11:05:35.692692Z"
    },
    "papermill": {
     "duration": 0.042027,
     "end_time": "2022-02-14T11:26:05.694666",
     "exception": false,
     "start_time": "2022-02-14T11:26:05.652639",
     "status": "completed"
    },
    "tags": []
   },
   "outputs": [
    {
     "name": "stdout",
     "output_type": "stream",
     "text": [
      "/kaggle/input/prediksi-harga-mobil-berdasarkan-kecepatan-kuda/data.csv\n"
     ]
    }
   ],
   "source": [
    "# This Python 3 environment comes with many helpful analytics libraries installed\n",
    "# It is defined by the kaggle/python Docker image: https://github.com/kaggle/docker-python\n",
    "# For example, here's several helpful packages to load\n",
    "\n",
    "import numpy as np # linear algebra\n",
    "import pandas as pd # data processing, CSV file I/O (e.g. pd.read_csv)\n",
    "\n",
    "# Input data files are available in the read-only \"../input/\" directory\n",
    "# For example, running this (by clicking run or pressing Shift+Enter) will list all files under the input directory\n",
    "\n",
    "import os\n",
    "for dirname, _, filenames in os.walk('/kaggle/input'):\n",
    "    for filename in filenames:\n",
    "        print(os.path.join(dirname, filename))\n",
    "\n",
    "# You can write up to 20GB to the current directory (/kaggle/working/) that gets preserved as output when you create a version using \"Save & Run All\" \n",
    "# You can also write temporary files to /kaggle/temp/, but they won't be saved outside of the current session"
   ]
  },
  {
   "cell_type": "code",
   "execution_count": 2,
   "id": "905756ea",
   "metadata": {
    "execution": {
     "iopub.execute_input": "2022-02-14T11:26:05.724928Z",
     "iopub.status.busy": "2022-02-14T11:26:05.724196Z",
     "iopub.status.idle": "2022-02-14T11:26:05.751484Z",
     "shell.execute_reply": "2022-02-14T11:26:05.750698Z",
     "shell.execute_reply.started": "2022-02-14T11:05:35.710214Z"
    },
    "papermill": {
     "duration": 0.044096,
     "end_time": "2022-02-14T11:26:05.751639",
     "exception": false,
     "start_time": "2022-02-14T11:26:05.707543",
     "status": "completed"
    },
    "tags": []
   },
   "outputs": [
    {
     "data": {
      "text/html": [
       "<div>\n",
       "<style scoped>\n",
       "    .dataframe tbody tr th:only-of-type {\n",
       "        vertical-align: middle;\n",
       "    }\n",
       "\n",
       "    .dataframe tbody tr th {\n",
       "        vertical-align: top;\n",
       "    }\n",
       "\n",
       "    .dataframe thead th {\n",
       "        text-align: right;\n",
       "    }\n",
       "</style>\n",
       "<table border=\"1\" class=\"dataframe\">\n",
       "  <thead>\n",
       "    <tr style=\"text-align: right;\">\n",
       "      <th></th>\n",
       "      <th>Unnamed: 0</th>\n",
       "      <th>horsepower</th>\n",
       "      <th>price</th>\n",
       "    </tr>\n",
       "  </thead>\n",
       "  <tbody>\n",
       "    <tr>\n",
       "      <th>0</th>\n",
       "      <td>0</td>\n",
       "      <td>111.0</td>\n",
       "      <td>13495.0</td>\n",
       "    </tr>\n",
       "    <tr>\n",
       "      <th>1</th>\n",
       "      <td>1</td>\n",
       "      <td>111.0</td>\n",
       "      <td>16500.0</td>\n",
       "    </tr>\n",
       "    <tr>\n",
       "      <th>2</th>\n",
       "      <td>2</td>\n",
       "      <td>154.0</td>\n",
       "      <td>16500.0</td>\n",
       "    </tr>\n",
       "    <tr>\n",
       "      <th>3</th>\n",
       "      <td>3</td>\n",
       "      <td>102.0</td>\n",
       "      <td>13950.0</td>\n",
       "    </tr>\n",
       "    <tr>\n",
       "      <th>4</th>\n",
       "      <td>4</td>\n",
       "      <td>115.0</td>\n",
       "      <td>17450.0</td>\n",
       "    </tr>\n",
       "  </tbody>\n",
       "</table>\n",
       "</div>"
      ],
      "text/plain": [
       "   Unnamed: 0  horsepower    price\n",
       "0           0       111.0  13495.0\n",
       "1           1       111.0  16500.0\n",
       "2           2       154.0  16500.0\n",
       "3           3       102.0  13950.0\n",
       "4           4       115.0  17450.0"
      ]
     },
     "execution_count": 2,
     "metadata": {},
     "output_type": "execute_result"
    }
   ],
   "source": [
    "data = pd.read_csv('../input/prediksi-harga-mobil-berdasarkan-kecepatan-kuda/data.csv')\n",
    "data.head()"
   ]
  },
  {
   "cell_type": "code",
   "execution_count": 3,
   "id": "b4b36a13",
   "metadata": {
    "execution": {
     "iopub.execute_input": "2022-02-14T11:26:05.782727Z",
     "iopub.status.busy": "2022-02-14T11:26:05.781691Z",
     "iopub.status.idle": "2022-02-14T11:26:05.813155Z",
     "shell.execute_reply": "2022-02-14T11:26:05.813665Z",
     "shell.execute_reply.started": "2022-02-14T11:05:35.734822Z"
    },
    "papermill": {
     "duration": 0.049153,
     "end_time": "2022-02-14T11:26:05.813860",
     "exception": false,
     "start_time": "2022-02-14T11:26:05.764707",
     "status": "completed"
    },
    "tags": []
   },
   "outputs": [
    {
     "data": {
      "text/html": [
       "<div>\n",
       "<style scoped>\n",
       "    .dataframe tbody tr th:only-of-type {\n",
       "        vertical-align: middle;\n",
       "    }\n",
       "\n",
       "    .dataframe tbody tr th {\n",
       "        vertical-align: top;\n",
       "    }\n",
       "\n",
       "    .dataframe thead th {\n",
       "        text-align: right;\n",
       "    }\n",
       "</style>\n",
       "<table border=\"1\" class=\"dataframe\">\n",
       "  <thead>\n",
       "    <tr style=\"text-align: right;\">\n",
       "      <th></th>\n",
       "      <th>Unnamed: 0</th>\n",
       "      <th>horsepower</th>\n",
       "      <th>price</th>\n",
       "    </tr>\n",
       "  </thead>\n",
       "  <tbody>\n",
       "    <tr>\n",
       "      <th>count</th>\n",
       "      <td>200.000000</td>\n",
       "      <td>200.000000</td>\n",
       "      <td>200.000000</td>\n",
       "    </tr>\n",
       "    <tr>\n",
       "      <th>mean</th>\n",
       "      <td>103.280000</td>\n",
       "      <td>103.320000</td>\n",
       "      <td>13230.375000</td>\n",
       "    </tr>\n",
       "    <tr>\n",
       "      <th>std</th>\n",
       "      <td>59.138128</td>\n",
       "      <td>37.468615</td>\n",
       "      <td>7960.155239</td>\n",
       "    </tr>\n",
       "    <tr>\n",
       "      <th>min</th>\n",
       "      <td>0.000000</td>\n",
       "      <td>48.000000</td>\n",
       "      <td>5118.000000</td>\n",
       "    </tr>\n",
       "    <tr>\n",
       "      <th>25%</th>\n",
       "      <td>53.750000</td>\n",
       "      <td>70.000000</td>\n",
       "      <td>7775.000000</td>\n",
       "    </tr>\n",
       "    <tr>\n",
       "      <th>50%</th>\n",
       "      <td>103.500000</td>\n",
       "      <td>95.000000</td>\n",
       "      <td>10320.000000</td>\n",
       "    </tr>\n",
       "    <tr>\n",
       "      <th>75%</th>\n",
       "      <td>154.250000</td>\n",
       "      <td>116.000000</td>\n",
       "      <td>16500.750000</td>\n",
       "    </tr>\n",
       "    <tr>\n",
       "      <th>max</th>\n",
       "      <td>204.000000</td>\n",
       "      <td>262.000000</td>\n",
       "      <td>45400.000000</td>\n",
       "    </tr>\n",
       "  </tbody>\n",
       "</table>\n",
       "</div>"
      ],
      "text/plain": [
       "       Unnamed: 0  horsepower         price\n",
       "count  200.000000  200.000000    200.000000\n",
       "mean   103.280000  103.320000  13230.375000\n",
       "std     59.138128   37.468615   7960.155239\n",
       "min      0.000000   48.000000   5118.000000\n",
       "25%     53.750000   70.000000   7775.000000\n",
       "50%    103.500000   95.000000  10320.000000\n",
       "75%    154.250000  116.000000  16500.750000\n",
       "max    204.000000  262.000000  45400.000000"
      ]
     },
     "execution_count": 3,
     "metadata": {},
     "output_type": "execute_result"
    }
   ],
   "source": [
    "data.describe()"
   ]
  },
  {
   "cell_type": "code",
   "execution_count": 4,
   "id": "cd1a749f",
   "metadata": {
    "execution": {
     "iopub.execute_input": "2022-02-14T11:26:05.844580Z",
     "iopub.status.busy": "2022-02-14T11:26:05.843472Z",
     "iopub.status.idle": "2022-02-14T11:26:06.061575Z",
     "shell.execute_reply": "2022-02-14T11:26:06.062121Z",
     "shell.execute_reply.started": "2022-02-14T11:16:19.755682Z"
    },
    "papermill": {
     "duration": 0.235049,
     "end_time": "2022-02-14T11:26:06.062304",
     "exception": false,
     "start_time": "2022-02-14T11:26:05.827255",
     "status": "completed"
    },
    "tags": []
   },
   "outputs": [
    {
     "data": {
      "text/plain": [
       "<matplotlib.collections.PathCollection at 0x7fec098e0390>"
      ]
     },
     "execution_count": 4,
     "metadata": {},
     "output_type": "execute_result"
    },
    {
     "data": {
      "image/png": "[encoded data removed]",
      "text/plain": [
       "<Figure size 432x288 with 1 Axes>"
      ]
     },
     "metadata": {
      "needs_background": "light"
     },
     "output_type": "display_data"
    }
   ],
   "source": [
    "import matplotlib.pyplot as plt\n",
    "%matplotlib inline\n",
    "plt.xlabel('horsepower')\n",
    "plt.ylabel('price')\n",
    "plt.scatter(data.horsepower,data.price,color='red',marker='+')"
   ]
  },
  {
   "cell_type": "code",
   "execution_count": 5,
   "id": "d3f914a1",
   "metadata": {
    "execution": {
     "iopub.execute_input": "2022-02-14T11:26:06.101347Z",
     "iopub.status.busy": "2022-02-14T11:26:06.100233Z",
     "iopub.status.idle": "2022-02-14T11:26:06.104085Z",
     "shell.execute_reply": "2022-02-14T11:26:06.104591Z",
     "shell.execute_reply.started": "2022-02-14T11:05:35.762197Z"
    },
    "papermill": {
     "duration": 0.027782,
     "end_time": "2022-02-14T11:26:06.104771",
     "exception": false,
     "start_time": "2022-02-14T11:26:06.076989",
     "status": "completed"
    },
    "tags": []
   },
   "outputs": [
    {
     "data": {
      "text/plain": [
       "Unnamed: 0    0\n",
       "horsepower    0\n",
       "price         0\n",
       "dtype: int64"
      ]
     },
     "execution_count": 5,
     "metadata": {},
     "output_type": "execute_result"
    }
   ],
   "source": [
    "data.isnull().sum()"
   ]
  },
  {
   "cell_type": "code",
   "execution_count": 6,
   "id": "8c7e9995",
   "metadata": {
    "execution": {
     "iopub.execute_input": "2022-02-14T11:26:06.150647Z",
     "iopub.status.busy": "2022-02-14T11:26:06.149945Z",
     "iopub.status.idle": "2022-02-14T11:26:06.152696Z",
     "shell.execute_reply": "2022-02-14T11:26:06.153205Z",
     "shell.execute_reply.started": "2022-02-14T11:05:35.772075Z"
    },
    "papermill": {
     "duration": 0.033337,
     "end_time": "2022-02-14T11:26:06.153382",
     "exception": false,
     "start_time": "2022-02-14T11:26:06.120045",
     "status": "completed"
    },
    "tags": []
   },
   "outputs": [
    {
     "data": {
      "text/html": [
       "<div>\n",
       "<style scoped>\n",
       "    .dataframe tbody tr th:only-of-type {\n",
       "        vertical-align: middle;\n",
       "    }\n",
       "\n",
       "    .dataframe tbody tr th {\n",
       "        vertical-align: top;\n",
       "    }\n",
       "\n",
       "    .dataframe thead th {\n",
       "        text-align: right;\n",
       "    }\n",
       "</style>\n",
       "<table border=\"1\" class=\"dataframe\">\n",
       "  <thead>\n",
       "    <tr style=\"text-align: right;\">\n",
       "      <th></th>\n",
       "      <th>horsepower</th>\n",
       "      <th>price</th>\n",
       "    </tr>\n",
       "  </thead>\n",
       "  <tbody>\n",
       "    <tr>\n",
       "      <th>0</th>\n",
       "      <td>111.0</td>\n",
       "      <td>13495.0</td>\n",
       "    </tr>\n",
       "    <tr>\n",
       "      <th>1</th>\n",
       "      <td>111.0</td>\n",
       "      <td>16500.0</td>\n",
       "    </tr>\n",
       "    <tr>\n",
       "      <th>2</th>\n",
       "      <td>154.0</td>\n",
       "      <td>16500.0</td>\n",
       "    </tr>\n",
       "    <tr>\n",
       "      <th>3</th>\n",
       "      <td>102.0</td>\n",
       "      <td>13950.0</td>\n",
       "    </tr>\n",
       "    <tr>\n",
       "      <th>4</th>\n",
       "      <td>115.0</td>\n",
       "      <td>17450.0</td>\n",
       "    </tr>\n",
       "    <tr>\n",
       "      <th>...</th>\n",
       "      <td>...</td>\n",
       "      <td>...</td>\n",
       "    </tr>\n",
       "    <tr>\n",
       "      <th>195</th>\n",
       "      <td>114.0</td>\n",
       "      <td>16845.0</td>\n",
       "    </tr>\n",
       "    <tr>\n",
       "      <th>196</th>\n",
       "      <td>160.0</td>\n",
       "      <td>19045.0</td>\n",
       "    </tr>\n",
       "    <tr>\n",
       "      <th>197</th>\n",
       "      <td>134.0</td>\n",
       "      <td>21485.0</td>\n",
       "    </tr>\n",
       "    <tr>\n",
       "      <th>198</th>\n",
       "      <td>106.0</td>\n",
       "      <td>22470.0</td>\n",
       "    </tr>\n",
       "    <tr>\n",
       "      <th>199</th>\n",
       "      <td>114.0</td>\n",
       "      <td>22625.0</td>\n",
       "    </tr>\n",
       "  </tbody>\n",
       "</table>\n",
       "<p>200 rows × 2 columns</p>\n",
       "</div>"
      ],
      "text/plain": [
       "     horsepower    price\n",
       "0         111.0  13495.0\n",
       "1         111.0  16500.0\n",
       "2         154.0  16500.0\n",
       "3         102.0  13950.0\n",
       "4         115.0  17450.0\n",
       "..          ...      ...\n",
       "195       114.0  16845.0\n",
       "196       160.0  19045.0\n",
       "197       134.0  21485.0\n",
       "198       106.0  22470.0\n",
       "199       114.0  22625.0\n",
       "\n",
       "[200 rows x 2 columns]"
      ]
     },
     "execution_count": 6,
     "metadata": {},
     "output_type": "execute_result"
    }
   ],
   "source": [
    "data.drop(columns='Unnamed: 0')"
   ]
  },
  {
   "cell_type": "code",
   "execution_count": 7,
   "id": "cf9d0352",
   "metadata": {
    "execution": {
     "iopub.execute_input": "2022-02-14T11:26:06.189329Z",
     "iopub.status.busy": "2022-02-14T11:26:06.188574Z",
     "iopub.status.idle": "2022-02-14T11:26:07.545323Z",
     "shell.execute_reply": "2022-02-14T11:26:07.545787Z",
     "shell.execute_reply.started": "2022-02-14T11:12:41.294584Z"
    },
    "papermill": {
     "duration": 1.376776,
     "end_time": "2022-02-14T11:26:07.546000",
     "exception": false,
     "start_time": "2022-02-14T11:26:06.169224",
     "status": "completed"
    },
    "tags": []
   },
   "outputs": [
    {
     "data": {
      "text/plain": [
       "0.6578783132826256"
      ]
     },
     "execution_count": 7,
     "metadata": {},
     "output_type": "execute_result"
    }
   ],
   "source": [
    "from sklearn import linear_model\n",
    "\n",
    "reg = linear_model.LinearRegression()\n",
    "\n",
    "reg.fit(data[['horsepower']],data.price)\n",
    "reg.score(data[['horsepower']],data.price)"
   ]
  },
  {
   "cell_type": "code",
   "execution_count": 8,
   "id": "eb15a7ab",
   "metadata": {
    "execution": {
     "iopub.execute_input": "2022-02-14T11:26:07.584294Z",
     "iopub.status.busy": "2022-02-14T11:26:07.583496Z",
     "iopub.status.idle": "2022-02-14T11:26:07.587776Z",
     "shell.execute_reply": "2022-02-14T11:26:07.586864Z",
     "shell.execute_reply.started": "2022-02-14T11:18:33.693537Z"
    },
    "papermill": {
     "duration": 0.02576,
     "end_time": "2022-02-14T11:26:07.588005",
     "exception": false,
     "start_time": "2022-02-14T11:26:07.562245",
     "status": "completed"
    },
    "tags": []
   },
   "outputs": [
    {
     "name": "stdout",
     "output_type": "stream",
     "text": [
      "[172.31642916]\n",
      "-4573.358460397674\n"
     ]
    }
   ],
   "source": [
    "print(reg.coef_)\n",
    "print(reg.intercept_)"
   ]
  },
  {
   "cell_type": "code",
   "execution_count": 9,
   "id": "7fa13186",
   "metadata": {
    "execution": {
     "iopub.execute_input": "2022-02-14T11:26:07.629565Z",
     "iopub.status.busy": "2022-02-14T11:26:07.628675Z",
     "iopub.status.idle": "2022-02-14T11:26:07.633075Z",
     "shell.execute_reply": "2022-02-14T11:26:07.632475Z",
     "shell.execute_reply.started": "2022-02-14T11:22:59.029625Z"
    },
    "papermill": {
     "duration": 0.027984,
     "end_time": "2022-02-14T11:26:07.633230",
     "exception": false,
     "start_time": "2022-02-14T11:26:07.605246",
     "status": "completed"
    },
    "tags": []
   },
   "outputs": [
    {
     "data": {
      "text/plain": [
       "array([14553.76517592])"
      ]
     },
     "execution_count": 9,
     "metadata": {},
     "output_type": "execute_result"
    }
   ],
   "source": [
    "reg.predict(np.array([[111]]))"
   ]
  },
  {
   "cell_type": "code",
   "execution_count": 10,
   "id": "3f192d2a",
   "metadata": {
    "execution": {
     "iopub.execute_input": "2022-02-14T11:26:07.671647Z",
     "iopub.status.busy": "2022-02-14T11:26:07.669489Z",
     "iopub.status.idle": "2022-02-14T11:26:07.678148Z",
     "shell.execute_reply": "2022-02-14T11:26:07.676931Z",
     "shell.execute_reply.started": "2022-02-14T11:24:45.572804Z"
    },
    "papermill": {
     "duration": 0.02787,
     "end_time": "2022-02-14T11:26:07.678376",
     "exception": false,
     "start_time": "2022-02-14T11:26:07.650506",
     "status": "completed"
    },
    "tags": []
   },
   "outputs": [
    {
     "name": "stdout",
     "output_type": "stream",
     "text": [
      "14553.765176362329\n"
     ]
    }
   ],
   "source": [
    "# y = mx+b\n",
    "\n",
    "c = 172.31642916*111+(-4573.358460397674)\n",
    "print(c)"
   ]
  }
 ],
 "metadata": {
  "kernelspec": {
   "display_name": "Python 3",
   "language": "python",
   "name": "python3"
  },
  "language_info": {
   "codemirror_mode": {
    "name": "ipython",
    "version": 3
   },
   "file_extension": ".py",
   "mimetype": "text/x-python",
   "name": "python",
   "nbconvert_exporter": "python",
   "pygments_lexer": "ipython3",
   "version": "3.7.12"
  },
  "papermill": {
   "default_parameters": {},
   "duration": 14.597716,
   "end_time": "2022-02-14T11:26:08.509180",
   "environment_variables": {},
   "exception": null,
   "input_path": "__notebook__.ipynb",
   "output_path": "__notebook__.ipynb",
   "parameters": {},
   "start_time": "2022-02-14T11:25:53.911464",
   "version": "2.3.3"
  }
 },
 "nbformat": 4,
 "nbformat_minor": 5
}
